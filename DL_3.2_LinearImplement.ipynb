{
 "cells": [
  {
   "cell_type": "markdown",
   "metadata": {},
   "source": [
    "# 深度学习3.2：线性回归的代码实现\n",
    "\n",
    "**我们要实现什么？**\n",
    "1. 数据集的生成（不是重点）\n",
    "2. 随机梯度下降（SGD）的实现\n",
    "   \n",
    "   2.1. 重抽样\n",
    "\n",
    "   2.2. 定义损失函数\n",
    "   \n",
    "   2.3. 梯度下降优化的实现\n",
    "3. 使用我们的模型"
   ]
  },
  {
   "cell_type": "code",
   "execution_count": 143,
   "metadata": {},
   "outputs": [],
   "source": [
    "%matplotlib inline\n",
    "import random\n",
    "import torch as t\n",
    "import matplotlib.pyplot as plt"
   ]
  },
  {
   "cell_type": "markdown",
   "metadata": {},
   "source": [
    "### 生成数据集"
   ]
  },
  {
   "cell_type": "code",
   "execution_count": 144,
   "metadata": {},
   "outputs": [
    {
     "data": {
      "text/plain": [
       "<function Tensor.type>"
      ]
     },
     "execution_count": 144,
     "metadata": {},
     "output_type": "execute_result"
    }
   ],
   "source": [
    "def synthetic_data(w, b, num_examples):\n",
    "    X = t.normal(0, 1, (num_examples, len(w)))\n",
    "    y = t.matmul(X, w) + b # matmul是矩阵乘法，返回矩阵乘积\n",
    "    y += t.normal(0, 0.01, y.shape)\n",
    "    return X, y.reshape((-1, 1))\n",
    "\n",
    "true_w = t.tensor([2,-3.4])\n",
    "true_b = 4.2\n",
    "features, labels = synthetic_data(true_w, true_b, 1000)\n",
    "features.type"
   ]
  },
  {
   "cell_type": "code",
   "execution_count": 145,
   "metadata": {},
   "outputs": [
    {
     "name": "stdout",
     "output_type": "stream",
     "text": [
      "第一组数据的残差为 tensor([-0.0079])\n"
     ]
    },
    {
     "data": {
      "text/plain": [
       "[tensor([-0.4702, -0.8209]), tensor([6.0585])]"
      ]
     },
     "execution_count": 145,
     "metadata": {},
     "output_type": "execute_result"
    }
   ],
   "source": [
    "nozoi = [features[0],labels[0]]\n",
    "print('第一组数据的残差为',features[0] @ true_w.reshape((-1,1)) + true_b - labels[0])\n",
    "nozoi # 侦察一下"
   ]
  },
  {
   "cell_type": "code",
   "execution_count": 146,
   "metadata": {},
   "outputs": [
    {
     "data": {
      "text/plain": [
       "<matplotlib.collections.PathCollection at 0x1b45b4f7350>"
      ]
     },
     "execution_count": 146,
     "metadata": {},
     "output_type": "execute_result"
    },
    {
     "data": {
      "image/png": "[encoded data removed]",
      "text/plain": [
       "<Figure size 600x400 with 1 Axes>"
      ]
     },
     "metadata": {},
     "output_type": "display_data"
    }
   ],
   "source": [
    "plt.rcParams['figure.figsize'] = (6, 4)\n",
    "plt.scatter(features[:, 1].detach().numpy(), labels.detach().numpy(), s=1) # plt.scatter(横坐标数据[列表],纵坐标数据[列表],s=点的大小)"
   ]
  },
  {
   "cell_type": "markdown",
   "metadata": {},
   "source": [
    "### 重新取样\n",
    "随机地从样本中抽取容量为 $b$ 的小样本。\n",
    "\n",
    "*我们首先讲解一下 `yield` 的用法：*"
   ]
  },
  {
   "cell_type": "code",
   "execution_count": 147,
   "metadata": {},
   "outputs": [
    {
     "name": "stdout",
     "output_type": "stream",
     "text": [
      "第0次\n",
      "0\n",
      "第1次\n",
      "1\n",
      "第2次\n",
      "2\n",
      "我是分割线\n",
      "第0次\n",
      "0\n",
      "第1次\n",
      "1\n",
      "第2次\n",
      "2\n",
      "第3次\n",
      "3\n"
     ]
    }
   ],
   "source": [
    "# 首先解释一下什么是 yield 关键词\n",
    "def yield_teach(teach_num):\n",
    "    for i in range(teach_num):\n",
    "        print('第{}次'.format(i))\n",
    "        yield i # 如果这里换成 return i，就无法一直输出了\n",
    "        \n",
    "yield_result = yield_teach(3)\n",
    "# 访问生成器的结果，需要使用 next 函数\n",
    "print(next(yield_result))\n",
    "print(next(yield_result))\n",
    "print(next(yield_result))\n",
    "print('我是分割线')\n",
    "# 也可以使用 for 循环\n",
    "yield_result2 = yield_teach(4)\n",
    "for i in yield_result2:\n",
    "    print(i)"
   ]
  },
  {
   "cell_type": "code",
   "execution_count": 148,
   "metadata": {},
   "outputs": [],
   "source": [
    "def data_iter(batch_size, features, labels):\n",
    "    num_examples = len(features)\n",
    "    # 生成从 0 到 num_examples - 1 的索引列表\n",
    "    indices = list(range(num_examples))\n",
    "    # 这些样本是随机读取的，没有特定的顺序\n",
    "    random.shuffle(indices)\n",
    "    # 根据打乱的索引列表，抽取前 batch_size 个样本\n",
    "    for i in range(0, num_examples, batch_size):\n",
    "        batch_indices = t.tensor(\n",
    "            indices[i: min(i + batch_size, num_examples)]\n",
    "        )\n",
    "        yield features[batch_indices], labels[batch_indices]"
   ]
  },
  {
   "cell_type": "markdown",
   "metadata": {},
   "source": [
    "*演示一下迭代：*"
   ]
  },
  {
   "cell_type": "code",
   "execution_count": 149,
   "metadata": {},
   "outputs": [
    {
     "name": "stdout",
     "output_type": "stream",
     "text": [
      "tensor([[ 0.5054, -1.8532],\n",
      "        [ 0.8411,  1.0256],\n",
      "        [ 1.5719,  1.5153],\n",
      "        [-0.4951,  0.4392],\n",
      "        [ 1.3654,  1.2095],\n",
      "        [-1.1673,  0.2202],\n",
      "        [-0.3031,  1.1615],\n",
      "        [ 0.6677, -1.0678],\n",
      "        [ 0.0622, -0.7946],\n",
      "        [-0.8875, -0.7155]]) \n",
      " tensor([[11.5135],\n",
      "        [ 2.3866],\n",
      "        [ 2.1885],\n",
      "        [ 1.7145],\n",
      "        [ 2.8285],\n",
      "        [ 1.1154],\n",
      "        [-0.3676],\n",
      "        [ 9.1687],\n",
      "        [ 7.0153],\n",
      "        [ 4.8579]])\n"
     ]
    }
   ],
   "source": [
    "batch_size = 10\n",
    "for X, y in data_iter(batch_size, features, labels):\n",
    "    print(X, '\\n', y)\n",
    "    break"
   ]
  },
  {
   "cell_type": "markdown",
   "metadata": {},
   "source": [
    "### 定义模型\n",
    "这里我们实现的是线性模型"
   ]
  },
  {
   "cell_type": "code",
   "execution_count": 150,
   "metadata": {},
   "outputs": [],
   "source": [
    "def linereg(X, w, b):\n",
    "    return t.matmul(X, w) + b"
   ]
  },
  {
   "cell_type": "markdown",
   "metadata": {},
   "source": [
    "接下来，我们的任务就变为了如何找到合适的 $w$ 和 $b$。也就是“求参”，换言之“训练”。"
   ]
  },
  {
   "cell_type": "markdown",
   "metadata": {},
   "source": [
    "### 损失函数\n",
    "下面的代码返回以下矩阵函数：\n",
    "$$\n",
    "\\begin{pmatrix}\n",
    "\\frac{(\\hat{y_1} - y_1)^2}{2} \\\\\n",
    "\\vdots \\\\\n",
    "\\frac{(\\hat{y_m} - y_m)^2}{2} \\\\\n",
    "\\end{pmatrix}\n",
    "$$\n",
    "该函数记录了每个样本的损失值。在后面的代码中我们会使用 `loss.sum()` 来计算所有样本的损失值之和，求它的梯度。"
   ]
  },
  {
   "cell_type": "code",
   "execution_count": 151,
   "metadata": {},
   "outputs": [],
   "source": [
    "def loss(y_hat, y):\n",
    "    return ((y_hat - y.reshape(y_hat.shape)) ** 2) / 2"
   ]
  },
  {
   "cell_type": "markdown",
   "metadata": {},
   "source": [
    "### 优化算法\n",
    "#### 实现 SGD 算法：\n",
    "- `params`：待更新的参数，我们把它打包在一起，形如 `params = [w, b]`\n",
    "- `lr`：学习率，即 $\\eta$\n",
    "- `batch_size`：小批量样本的大小\n",
    "#### 逻辑：\n",
    "- 往负梯度方向更新\n",
    "#### 注意：\n",
    "- 要考虑到 `batch_size` 的影响，因此我们需要规范化步长\n",
    "- 注意每次计算完成后都要清理内存： `params.grad.zero_()`"
   ]
  },
  {
   "cell_type": "code",
   "execution_count": 152,
   "metadata": {},
   "outputs": [],
   "source": [
    "def sgd(params, lr, batch_size):  #@save\n",
    "    \"\"\"小批量随机梯度下降\"\"\"\n",
    "    with t.no_grad():\n",
    "        for param in params:\n",
    "            param -= lr * param.grad / batch_size\n",
    "            param.grad.zero_()"
   ]
  },
  {
   "cell_type": "markdown",
   "metadata": {},
   "source": [
    "### 训练\n",
    "现在把所有的东西整合到一起：\n",
    "```\n",
    "初始化参数-->抽取样本-->求损失函数-->求梯度-->更新参数--> (if t == T) 输出\n",
    "    ↑                                         ↓\n",
    "    |-----------------------------------------| (else)\n",
    "\n",
    "其中：\n",
    "    求损失函数:\n",
    "        1. 调用 linereg 计算当前参数下的预测值\n",
    "        2. 调用 loss 计算损失值\n",
    "```"
   ]
  },
  {
   "cell_type": "code",
   "execution_count": 153,
   "metadata": {},
   "outputs": [],
   "source": [
    "# 初始化\n",
    "w = t.normal(0, 0.01, size=(2,1), requires_grad=True)\n",
    "b = t.zeros(1, requires_grad=True)"
   ]
  },
  {
   "cell_type": "code",
   "execution_count": 154,
   "metadata": {},
   "outputs": [
    {
     "name": "stdout",
     "output_type": "stream",
     "text": [
      "epoch 1, loss 0.046946\n",
      "epoch 2, loss 0.000180\n",
      "epoch 3, loss 0.000048\n"
     ]
    }
   ],
   "source": [
    "lr = 0.03\n",
    "num_epochs = 3\n",
    "net = linereg\n",
    "\n",
    "for epoch in range(num_epochs):\n",
    "    for X, y in data_iter(batch_size, features, labels):\n",
    "        l = loss(net(X, w, b), y)  # X和y的小批量损失\n",
    "        # 因为l形状是(batch_size,1)，而不是一个标量。l中的所有元素被加到一起，\n",
    "        # 并以此计算关于[w,b]的梯度\n",
    "        l.sum().backward()\n",
    "        sgd([w, b], lr, batch_size)  # 使用参数的梯度更新参数\n",
    "    with t.no_grad():\n",
    "        train_l = loss(net(features, w, b), labels)\n",
    "        print(f'epoch {epoch + 1}, loss {float(train_l.mean()):f}')"
   ]
  },
  {
   "cell_type": "code",
   "execution_count": 155,
   "metadata": {},
   "outputs": [
    {
     "name": "stdout",
     "output_type": "stream",
     "text": [
      "w的估计误差: tensor([-0.0003, -0.0008], grad_fn=<SubBackward0>)\n",
      "b的估计误差: tensor([0.0009], grad_fn=<RsubBackward1>)\n",
      "tensor([[ 2.0003],\n",
      "        [-3.3992]], requires_grad=True) tensor([4.1991], requires_grad=True)\n"
     ]
    }
   ],
   "source": [
    "print(f'w的估计误差: {true_w - w.reshape(true_w.shape)}')\n",
    "print(f'b的估计误差: {true_b - b}')\n",
    "print(w,b)"
   ]
  }
 ],
 "metadata": {
  "kernelspec": {
   "display_name": "python-transformers",
   "language": "python",
   "name": "python3"
  },
  "language_info": {
   "codemirror_mode": {
    "name": "ipython",
    "version": 3
   },
   "file_extension": ".py",
   "mimetype": "text/x-python",
   "name": "python",
   "nbconvert_exporter": "python",
   "pygments_lexer": "ipython3",
   "version": "3.12.7"
  }
 },
 "nbformat": 4,
 "nbformat_minor": 2
}
